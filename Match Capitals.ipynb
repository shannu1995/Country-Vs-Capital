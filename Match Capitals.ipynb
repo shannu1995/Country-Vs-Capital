{
 "cells": [
  {
   "cell_type": "code",
   "execution_count": 16,
   "metadata": {},
   "outputs": [
    {
     "name": "stderr",
     "output_type": "stream",
     "text": [
      "C:\\Users\\Shannu\\AppData\\Local\\Temp\\ipykernel_13684\\3111344111.py:8: FutureWarning: Passing literal html to 'read_html' is deprecated and will be removed in a future version. To read from a literal string, wrap it in a 'StringIO' object.\n",
      "  df_list = pd.read_html(r.text)\n"
     ]
    },
    {
     "name": "stdout",
     "output_type": "stream",
     "text": [
      "500\n",
      "209\n"
     ]
    },
    {
     "name": "stderr",
     "output_type": "stream",
     "text": [
      "C:\\Users\\Shannu\\AppData\\Local\\Temp\\ipykernel_13684\\3111344111.py:16: FutureWarning: Passing literal html to 'read_html' is deprecated and will be removed in a future version. To read from a literal string, wrap it in a 'StringIO' object.\n",
      "  df_list_2 = pd.read_html(r2.text)\n"
     ]
    }
   ],
   "source": [
    "import pandas as pd\n",
    "import tkinter as tk\n",
    "import requests\n",
    "class CapitalsMatcher:\n",
    "    def __init__(self, master):\n",
    "        url = \"https://en.wikipedia.org/wiki/Wikipedia:WikiProject_Countries/Popular_pages\"\n",
    "        r = requests.get(url)\n",
    "        df_list = pd.read_html(r.text)\n",
    "\n",
    "        #The list of countries is the first table of the above URL. This is a list of country-related pages which arranged in popularity.\n",
    "        #Just because this list features an item, it does not mean it is an actual country. Just related to countries.\n",
    "        self.df1 = pd.DataFrame(df_list[0])\n",
    "        print(self.df1.shape[0])\n",
    "        url2 = \"https://en.wikipedia.org/wiki/List_of_national_capitals\"\n",
    "        r2 = requests.get(url2)\n",
    "        df_list_2 = pd.read_html(r2.text)\n",
    "        \n",
    "        #The list of countries and the capital cities is the first table of the above URL.\n",
    "        self.df2 = pd.DataFrame(df_list_2[1])\n",
    "        temp_df = self.df2.copy()\n",
    "        temp_df = temp_df[[\"Country/Territory\"]]\n",
    "\n",
    "        #This is to ensure that all of the country-related pages in the popularity table are in fact countries and not some other details related to it.\n",
    "        self.df1 = pd.merge(self.df1, temp_df, how=\"inner\",left_on=\"Page title\",right_on=\"Country/Territory\")\n",
    "        self.df1.drop(columns=[\"Country/Territory\"], inplace=True)\n",
    "        self.master = master\n",
    "        self.master.title(\"Capitals Matcher\")\n",
    "    def create_widgets(self):\n",
    "        self.label1 = tk.Label(self.master, text = \"Countries\")\n",
    "        self.label1.grid(row=0,column=0)\n",
    "        \n",
    "        self.label2 = tk.Label(self.master, text=\"Capitals\")\n",
    "        self.label2.grid(row=0, column=2)\n",
    "\n",
    "    def test_dataframe(self, df):\n",
    "        print(df.columns)\n",
    "if __name__ == \"__main__\":\n",
    "    root = tk.Tk()\n",
    "    app = CapitalsMatcher(root)\n",
    "    #root.mainloop()"
   ]
  }
 ],
 "metadata": {
  "kernelspec": {
   "display_name": "Python 3",
   "language": "python",
   "name": "python3"
  },
  "language_info": {
   "codemirror_mode": {
    "name": "ipython",
    "version": 3
   },
   "file_extension": ".py",
   "mimetype": "text/x-python",
   "name": "python",
   "nbconvert_exporter": "python",
   "pygments_lexer": "ipython3",
   "version": "3.12.1"
  }
 },
 "nbformat": 4,
 "nbformat_minor": 2
}
