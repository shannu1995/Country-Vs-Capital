{
 "cells": [
  {
   "cell_type": "code",
   "execution_count": 13,
   "metadata": {},
   "outputs": [
    {
     "name": "stderr",
     "output_type": "stream",
     "text": [
      "C:\\Users\\Shannu\\AppData\\Local\\Temp\\ipykernel_2596\\3447668960.py:9: FutureWarning: Passing literal html to 'read_html' is deprecated and will be removed in a future version. To read from a literal string, wrap it in a 'StringIO' object.\n",
      "  df_list = pd.read_html(r.text)\n",
      "C:\\Users\\Shannu\\AppData\\Local\\Temp\\ipykernel_2596\\3447668960.py:16: FutureWarning: Passing literal html to 'read_html' is deprecated and will be removed in a future version. To read from a literal string, wrap it in a 'StringIO' object.\n",
      "  df_list_2 = pd.read_html(r2.text)\n"
     ]
    },
    {
     "name": "stdout",
     "output_type": "stream",
     "text": [
      "                Page title\n",
      "0            United States\n",
      "1                    India\n",
      "2                   Israel\n",
      "3                   Guyana\n",
      "4           United Kingdom\n",
      "..                     ...\n",
      "204        Solomon Islands\n",
      "205    Antigua and Barbuda\n",
      "206                   Togo\n",
      "207  São Tomé and Príncipe\n",
      "208           Sint Maarten\n",
      "\n",
      "[209 rows x 1 columns]\n"
     ]
    }
   ],
   "source": [
    "import pandas as pd\n",
    "import tkinter as tk\n",
    "from tkinter import ttk\n",
    "import requests\n",
    "class CapitalsMatcher:\n",
    "    def __init__(self, master):\n",
    "        url = \"https://en.wikipedia.org/wiki/Wikipedia:WikiProject_Countries/Popular_pages\"\n",
    "        r = requests.get(url)\n",
    "        df_list = pd.read_html(r.text)\n",
    "\n",
    "        #The list of countries is the first table of the above URL. This is a list of country-related pages which arranged in popularity.\n",
    "        #Just because this list features an item, it does not mean it is an actual country. Just related to countries.\n",
    "        self.df1 = pd.DataFrame(df_list[0])\n",
    "        url2 = \"https://en.wikipedia.org/wiki/List_of_national_capitals\"\n",
    "        r2 = requests.get(url2)\n",
    "        df_list_2 = pd.read_html(r2.text)\n",
    "        \n",
    "        #The list of countries and the capital cities is the first table of the above URL.\n",
    "        self.df2 = pd.DataFrame(df_list_2[1])\n",
    "        temp_df = self.df2.copy()\n",
    "        temp_df = temp_df[[\"Country/Territory\"]]\n",
    "\n",
    "        #This is to ensure that all of the country-related pages in the popularity table are in fact countries and not some other details related to it.\n",
    "        self.df1 = pd.merge(self.df1, temp_df, how=\"inner\",left_on=\"Page title\",right_on=\"Country/Territory\")\n",
    "        #self.df1.drop(columns=[\"Country/Territory\"], inplace=True)\n",
    "        self.df1 = self.df1[[\"Page title\"]]\n",
    "        self.master = master\n",
    "        self.master.title(\"Capitals Matcher\")\n",
    "        print(self.df1)\n",
    "        self.create_widgets()\n",
    "    def create_widgets(self):\n",
    "        self.label1 = tk.Label(self.master, text = \"Countries\")\n",
    "        self.label1.grid(row=0,column=0)\n",
    "        self.label2 = tk.Label(self.master, text=\"Capitals\")\n",
    "        self.label2.grid(row=0, column=2)\n",
    "        self.tree1 = ttk.Treeview(self.master)\n",
    "        self.tree1['columns'] = tuple(self.df1.columns)\n",
    "        for col in self.df1.columns:\n",
    "            self.tree1.column(col, anchor=\"w\")\n",
    "            self.tree1.heading(col, text=col)\n",
    "        for index, row in self.df1.iterrows():\n",
    "            self.tree1.insert('', 'end', values=tuple(row))\n",
    "        self.tree1.grid(row=1, column=0, rowspan=6)\n",
    "        self.match_button = tk.Button(self.master, text=\"Match Rows\", command=self.match_rows)\n",
    "        self.match_button.grid(row=7, column=1)\n",
    "    def match_rows(self):\n",
    "        selected_items_1 = self.tree1.selection()\n",
    "    def test_dataframe(self, df):\n",
    "        print(df.columns)\n",
    "if __name__ == \"__main__\":\n",
    "    root = tk.Tk()\n",
    "    app = CapitalsMatcher(root)\n",
    "    root.mainloop()"
   ]
  }
 ],
 "metadata": {
  "kernelspec": {
   "display_name": "Python 3",
   "language": "python",
   "name": "python3"
  },
  "language_info": {
   "codemirror_mode": {
    "name": "ipython",
    "version": 3
   },
   "file_extension": ".py",
   "mimetype": "text/x-python",
   "name": "python",
   "nbconvert_exporter": "python",
   "pygments_lexer": "ipython3",
   "version": "3.12.1"
  }
 },
 "nbformat": 4,
 "nbformat_minor": 2
}
