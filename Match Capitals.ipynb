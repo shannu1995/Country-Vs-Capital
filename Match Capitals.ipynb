{
 "cells": [
  {
   "cell_type": "code",
   "execution_count": null,
   "metadata": {},
   "outputs": [],
   "source": [
    "import pandas as pd\n",
    "import tkinter as tk\n",
    "import requests\n",
    "class CapitalsMatcher:\n",
    "    def __init__(self, master):\n",
    "        url = \"https://en.wikipedia.org/wiki/Wikipedia:WikiProject_Countries/Popular_pages\"\n",
    "        r = requests.get(url)\n",
    "        df_list = pd.read_html(r.text)\n",
    "        self.df1 = pd.DataFrame(df_list[0])\n",
    "\n",
    "        url2 = \"https://en.wikipedia.org/wiki/List_of_national_capitals\"\n",
    "\n",
    "        r2 = requests.get(url2)\n",
    "        df_list_2 = pd.read_html(r2.text)\n",
    "        self.df2 = pd.DataFrame(df_list_2[0])\n",
    "        \n",
    "        self.master = master\n",
    "        self.master.title(\"Capitals Matcher\")\n",
    "if __name__ == \"__main__\":\n",
    "    root = tk.Tk()\n",
    "    app = CapitalsMatcher(root)\n",
    "    #root.mainloop()"
   ]
  }
 ],
 "metadata": {
  "language_info": {
   "name": "python"
  }
 },
 "nbformat": 4,
 "nbformat_minor": 2
}
