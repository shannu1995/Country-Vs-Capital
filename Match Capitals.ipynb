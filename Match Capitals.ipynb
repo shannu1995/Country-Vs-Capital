{
 "cells": [
  {
   "cell_type": "code",
   "execution_count": 13,
   "metadata": {},
   "outputs": [
    {
     "name": "stderr",
     "output_type": "stream",
     "text": [
      "C:\\Users\\Shannu\\AppData\\Local\\Temp\\ipykernel_22544\\1101253094.py:10: FutureWarning: Passing literal html to 'read_html' is deprecated and will be removed in a future version. To read from a literal string, wrap it in a 'StringIO' object.\n",
      "  df_list = pd.read_html(r.text)\n",
      "C:\\Users\\Shannu\\AppData\\Local\\Temp\\ipykernel_22544\\1101253094.py:17: FutureWarning: Passing literal html to 'read_html' is deprecated and will be removed in a future version. To read from a literal string, wrap it in a 'StringIO' object.\n",
      "  df_list_2 = pd.read_html(r2.text)\n"
     ]
    },
    {
     "name": "stdout",
     "output_type": "stream",
     "text": [
      "Match rows being executed\n",
      "3\n",
      "3\n"
     ]
    }
   ],
   "source": [
    "import pandas as pd\n",
    "import tkinter as tk\n",
    "from tkinter import ttk\n",
    "import requests\n",
    "import tkinter.messagebox as msg\n",
    "class CapitalsMatcher:\n",
    "    def __init__(self, master):\n",
    "        url = \"https://en.wikipedia.org/wiki/Wikipedia:WikiProject_Countries/Popular_pages\"\n",
    "        r = requests.get(url)\n",
    "        df_list = pd.read_html(r.text)\n",
    "\n",
    "        #The list of countries is the first table of the above URL. This is a list of country-related pages which arranged in popularity.\n",
    "        #Just because this list features an item, it does not mean it is an actual country. Just related to countries.\n",
    "        self.df1 = pd.DataFrame(df_list[0])\n",
    "        url2 = \"https://en.wikipedia.org/wiki/List_of_national_capitals\"\n",
    "        r2 = requests.get(url2)\n",
    "        df_list_2 = pd.read_html(r2.text)\n",
    "        \n",
    "        #The list of countries and the capital cities is the first table of the above URL.\n",
    "        self.df2 = pd.DataFrame(df_list_2[1])\n",
    "        temp_df = self.df2.copy()\n",
    "        temp_df = temp_df[[\"Country/Territory\"]]\n",
    "\n",
    "        #This is to ensure that all of the country-related pages in the popularity table are in fact countries and not some other details related to it.\n",
    "        self.df1 = pd.merge(self.df1, temp_df, how=\"inner\",left_on=\"Page title\",right_on=\"Country/Territory\")\n",
    "        #self.df1.drop(columns=[\"Country/Territory\"], inplace=True)\n",
    "        self.df1 = self.df1[[\"Page title\"]]\n",
    "        self.master = master\n",
    "        self.master.title(\"Capitals Matcher\")\n",
    "        self.create_widgets()\n",
    "    def create_widgets(self):\n",
    "        self.label1 = tk.Label(self.master, text = \"Countries\")\n",
    "        self.label1.grid(row=0,column=0)\n",
    "        self.label2 = tk.Label(self.master, text=\"Capitals\")\n",
    "        self.label2.grid(row=0, column=2)\n",
    "        self.tree1 = ttk.Treeview(self.master)\n",
    "        self.tree1['columns'] = tuple(self.df1.columns)\n",
    "        for col in self.df1.columns:\n",
    "            self.tree1.column(col, anchor=\"w\")\n",
    "            self.tree1.heading(col, text=col)\n",
    "        self.tree1['show'] = ''\n",
    "        random_country_df = self.df1.sample(5)\n",
    "        for index, row in random_country_df.iterrows():\n",
    "            self.tree1.insert('', 'end', values=tuple(row))\n",
    "        self.tree1.grid(row=1, column=0, rowspan=6, padx=(10,0))\n",
    "        self.match_button = tk.Button(self.master, text=\"Match Rows\", command=self.match_rows)\n",
    "        self.match_button.grid(row=7, column=1)\n",
    "\n",
    "        self.label2 = tk.Label(self.master, text = \"Capitals\")\n",
    "        self.label2.grid(row=0,column=2)\n",
    "        self.tree2 = ttk.Treeview(self.master)\n",
    "        self.tree2[\"columns\"] = tuple(self.df2.columns)\n",
    "        self.tree2['show'] = ''\n",
    "        capitals_df = pd.merge(self.df2, random_country_df, left_on=\"Country/Territory\", right_on=\"Page title\", how=\"inner\")\n",
    "        capitals_df.drop_duplicates(subset=\"Country/Territory\",inplace=True)\n",
    "        capitals_df.drop(columns=[\"Page title\", \"Country/Territory\", \"Notes\", \"Continent\"], inplace=True)\n",
    "        #capitals_df = capitals_df[capitals_df[\"City/Town\"]]\n",
    "        for col in capitals_df.columns:\n",
    "            self.tree2.column(col, anchor=\"w\")\n",
    "            self.tree2.heading(col, text=col)\n",
    "        for index, row in capitals_df.iterrows():\n",
    "            self.tree2.insert('', 'end', values = tuple(row))\n",
    "        self.tree2.grid(row=1, column=2, rowspan=6, padx=(0,10))\n",
    "    def match_rows(self):\n",
    "        print(\"Match rows being executed\")\n",
    "        selected_item_1 = self.tree1.selection()\n",
    "        selected_item_2 = self.tree2.selection()\n",
    "        if len(selected_item_1) == 0 and len(selected_item_2) == 0:\n",
    "            msg.showinfo(title=\"No selection\", message=\"Neither city nor country have been selected.\")\n",
    "        elif len(selected_item_1) == 0 or len(selected_item_2) == 0:\n",
    "            if len(selected_item_1) ==0:\n",
    "                msg.showinfo(title=\"No country selected\", message=\"Country has not been selected.\")\n",
    "            else:\n",
    "                msg.showinfo(title=\"No city selected\", message=\"City has not been selected.\")\n",
    "        else:\n",
    "            row_index_1 = int(selected_item_1[0][1:])\n",
    "            row_index_2 = int(selected_item_2[0][1:])\n",
    "            print(row_index_1)\n",
    "            print(row_index_2)\n",
    "    def test_dataframe(self, df):\n",
    "        print(df.columns)\n",
    "if __name__ == \"__main__\":\n",
    "    root = tk.Tk()\n",
    "    app = CapitalsMatcher(root)\n",
    "    root.mainloop()"
   ]
  }
 ],
 "metadata": {
  "kernelspec": {
   "display_name": "Python 3",
   "language": "python",
   "name": "python3"
  },
  "language_info": {
   "codemirror_mode": {
    "name": "ipython",
    "version": 3
   },
   "file_extension": ".py",
   "mimetype": "text/x-python",
   "name": "python",
   "nbconvert_exporter": "python",
   "pygments_lexer": "ipython3",
   "version": "3.12.1"
  }
 },
 "nbformat": 4,
 "nbformat_minor": 2
}
